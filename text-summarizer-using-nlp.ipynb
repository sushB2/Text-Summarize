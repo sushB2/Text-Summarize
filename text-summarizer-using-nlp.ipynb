{
 "cells": [
  {
   "cell_type": "code",
   "execution_count": 2,
   "metadata": {},
   "outputs": [
    {
     "name": "stdout",
     "output_type": "stream",
     "text": [
      "Requirement already satisfied: wordcloud in c:\\users\\hp\\anaconda3\\lib\\site-packages (1.9.2)\n",
      "Requirement already satisfied: numpy>=1.6.1 in c:\\users\\hp\\anaconda3\\lib\\site-packages (from wordcloud) (1.21.5)\n",
      "Requirement already satisfied: pillow in c:\\users\\hp\\anaconda3\\lib\\site-packages (from wordcloud) (9.0.1)\n",
      "Requirement already satisfied: matplotlib in c:\\users\\hp\\anaconda3\\lib\\site-packages (from wordcloud) (3.5.1)\n",
      "Requirement already satisfied: cycler>=0.10 in c:\\users\\hp\\anaconda3\\lib\\site-packages (from matplotlib->wordcloud) (0.11.0)\n",
      "Requirement already satisfied: fonttools>=4.22.0 in c:\\users\\hp\\anaconda3\\lib\\site-packages (from matplotlib->wordcloud) (4.25.0)\n",
      "Requirement already satisfied: kiwisolver>=1.0.1 in c:\\users\\hp\\anaconda3\\lib\\site-packages (from matplotlib->wordcloud) (1.3.2)\n",
      "Requirement already satisfied: packaging>=20.0 in c:\\users\\hp\\anaconda3\\lib\\site-packages (from matplotlib->wordcloud) (21.3)\n",
      "Requirement already satisfied: pyparsing>=2.2.1 in c:\\users\\hp\\anaconda3\\lib\\site-packages (from matplotlib->wordcloud) (3.0.4)\n",
      "Requirement already satisfied: python-dateutil>=2.7 in c:\\users\\hp\\anaconda3\\lib\\site-packages (from matplotlib->wordcloud) (2.8.2)\n",
      "Requirement already satisfied: six>=1.5 in c:\\users\\hp\\anaconda3\\lib\\site-packages (from python-dateutil>=2.7->matplotlib->wordcloud) (1.16.0)\n"
     ]
    }
   ],
   "source": [
    "!pip install wordcloud"
   ]
  },
  {
   "cell_type": "code",
   "execution_count": 3,
   "metadata": {},
   "outputs": [
    {
     "name": "stderr",
     "output_type": "stream",
     "text": [
      "[nltk_data] Downloading package stopwords to\n",
      "[nltk_data]     C:\\Users\\Hp\\AppData\\Roaming\\nltk_data...\n",
      "[nltk_data]   Package stopwords is already up-to-date!\n"
     ]
    },
    {
     "data": {
      "text/plain": [
       "True"
      ]
     },
     "execution_count": 3,
     "metadata": {},
     "output_type": "execute_result"
    }
   ],
   "source": [
    "import nltk\n",
    "nltk.download('stopwords')"
   ]
  },
  {
   "cell_type": "code",
   "execution_count": 4,
   "metadata": {},
   "outputs": [
    {
     "name": "stderr",
     "output_type": "stream",
     "text": [
      "[nltk_data] Downloading package punkt to\n",
      "[nltk_data]     C:\\Users\\Hp\\AppData\\Roaming\\nltk_data...\n",
      "[nltk_data]   Package punkt is already up-to-date!\n"
     ]
    },
    {
     "data": {
      "text/plain": [
       "True"
      ]
     },
     "execution_count": 4,
     "metadata": {},
     "output_type": "execute_result"
    }
   ],
   "source": [
    "import nltk\n",
    "nltk.download('punkt')"
   ]
  },
  {
   "cell_type": "code",
   "execution_count": 104,
   "metadata": {},
   "outputs": [
    {
     "name": "stdout",
     "output_type": "stream",
     "text": [
      "Collecting sumy\n",
      "  Downloading sumy-0.11.0-py2.py3-none-any.whl (97 kB)\n",
      "     -------------------------------------- 97.3/97.3 kB 506.3 kB/s eta 0:00:00\n",
      "Collecting docopt<0.7,>=0.6.1 (from sumy)\n",
      "  Downloading docopt-0.6.2.tar.gz (25 kB)\n",
      "  Preparing metadata (setup.py): started\n",
      "  Preparing metadata (setup.py): finished with status 'done'\n",
      "Collecting breadability>=0.1.20 (from sumy)\n",
      "  Downloading breadability-0.1.20.tar.gz (32 kB)\n",
      "  Preparing metadata (setup.py): started\n",
      "  Preparing metadata (setup.py): finished with status 'done'\n",
      "Requirement already satisfied: requests>=2.7.0 in c:\\users\\hp\\anaconda3\\lib\\site-packages (from sumy) (2.27.1)\n",
      "Collecting pycountry>=18.2.23 (from sumy)\n",
      "  Downloading pycountry-22.3.5.tar.gz (10.1 MB)\n",
      "     ---------------------------------------- 10.1/10.1 MB 2.0 MB/s eta 0:00:00\n",
      "  Installing build dependencies: started\n",
      "  Installing build dependencies: finished with status 'done'\n",
      "  Getting requirements to build wheel: started\n",
      "  Getting requirements to build wheel: finished with status 'done'\n",
      "  Preparing metadata (pyproject.toml): started\n",
      "  Preparing metadata (pyproject.toml): finished with status 'done'\n",
      "Requirement already satisfied: nltk>=3.0.2 in c:\\users\\hp\\anaconda3\\lib\\site-packages (from sumy) (3.7)\n",
      "Requirement already satisfied: chardet in c:\\users\\hp\\anaconda3\\lib\\site-packages (from breadability>=0.1.20->sumy) (3.0.4)\n",
      "Requirement already satisfied: lxml>=2.0 in c:\\users\\hp\\anaconda3\\lib\\site-packages (from breadability>=0.1.20->sumy) (4.8.0)\n",
      "Requirement already satisfied: click in c:\\users\\hp\\anaconda3\\lib\\site-packages (from nltk>=3.0.2->sumy) (8.0.4)\n",
      "Requirement already satisfied: joblib in c:\\users\\hp\\anaconda3\\lib\\site-packages (from nltk>=3.0.2->sumy) (1.2.0)\n",
      "Requirement already satisfied: regex>=2021.8.3 in c:\\users\\hp\\anaconda3\\lib\\site-packages (from nltk>=3.0.2->sumy) (2022.3.15)\n",
      "Requirement already satisfied: tqdm in c:\\users\\hp\\anaconda3\\lib\\site-packages (from nltk>=3.0.2->sumy) (4.64.0)\n",
      "Requirement already satisfied: setuptools in c:\\users\\hp\\anaconda3\\lib\\site-packages (from pycountry>=18.2.23->sumy) (61.2.0)\n",
      "Requirement already satisfied: urllib3<1.27,>=1.21.1 in c:\\users\\hp\\anaconda3\\lib\\site-packages (from requests>=2.7.0->sumy) (1.26.9)\n",
      "Requirement already satisfied: certifi>=2017.4.17 in c:\\users\\hp\\anaconda3\\lib\\site-packages (from requests>=2.7.0->sumy) (2021.10.8)\n",
      "Requirement already satisfied: charset-normalizer~=2.0.0 in c:\\users\\hp\\anaconda3\\lib\\site-packages (from requests>=2.7.0->sumy) (2.0.4)\n",
      "Requirement already satisfied: idna<4,>=2.5 in c:\\users\\hp\\anaconda3\\lib\\site-packages (from requests>=2.7.0->sumy) (2.10)\n",
      "Requirement already satisfied: colorama in c:\\users\\hp\\anaconda3\\lib\\site-packages (from click->nltk>=3.0.2->sumy) (0.4.4)\n",
      "Building wheels for collected packages: breadability, docopt, pycountry\n",
      "  Building wheel for breadability (setup.py): started\n",
      "  Building wheel for breadability (setup.py): finished with status 'done'\n",
      "  Created wheel for breadability: filename=breadability-0.1.20-py2.py3-none-any.whl size=21712 sha256=c3ce499613f94bfd1a433e2f2741cb0cdd1a2bd538a25c61237a3e4bb6a4b7a0\n",
      "  Stored in directory: c:\\users\\hp\\appdata\\local\\pip\\cache\\wheels\\ba\\9f\\70\\7795228568b81b57a8932755938da9fb1f291b0576752604aa\n",
      "  Building wheel for docopt (setup.py): started\n",
      "  Building wheel for docopt (setup.py): finished with status 'done'\n",
      "  Created wheel for docopt: filename=docopt-0.6.2-py2.py3-none-any.whl size=13723 sha256=67454e62fb48c5c47bbcdde33b20234eab097c3b1b9b3b3b7095bac8b3dae730\n",
      "  Stored in directory: c:\\users\\hp\\appdata\\local\\pip\\cache\\wheels\\70\\4a\\46\\1309fc853b8d395e60bafaf1b6df7845bdd82c95fd59dd8d2b\n",
      "  Building wheel for pycountry (pyproject.toml): started\n",
      "  Building wheel for pycountry (pyproject.toml): finished with status 'done'\n",
      "  Created wheel for pycountry: filename=pycountry-22.3.5-py2.py3-none-any.whl size=10681895 sha256=fdb521b7288369fb9dae739aec2164caec7cfde42bb37eed2a0e0b87ce1469f2\n",
      "  Stored in directory: c:\\users\\hp\\appdata\\local\\pip\\cache\\wheels\\47\\15\\92\\e6dc85fcb0686c82e1edbcfdf80cfe4808c058813fed0baa8f\n",
      "Successfully built breadability docopt pycountry\n",
      "Installing collected packages: docopt, pycountry, breadability, sumy\n",
      "Successfully installed breadability-0.1.20 docopt-0.6.2 pycountry-22.3.5 sumy-0.11.0\n"
     ]
    }
   ],
   "source": [
    "!pip install sumy"
   ]
  },
  {
   "cell_type": "markdown",
   "metadata": {
    "papermill": {
     "duration": 0.017304,
     "end_time": "2021-06-24T08:40:31.981189",
     "exception": false,
     "start_time": "2021-06-24T08:40:31.963885",
     "status": "completed"
    },
    "tags": []
   },
   "source": [
    "# 1 Importing the required Libraries"
   ]
  },
  {
   "cell_type": "code",
   "execution_count": 3,
   "metadata": {
    "_cell_guid": "b1076dfc-b9ad-4769-8c92-a6c4dae69d19",
    "_uuid": "8f2839f25d086af736a60e9eeb907d3b93b6e0e5",
    "execution": {
     "iopub.execute_input": "2021-06-24T08:40:32.024737Z",
     "iopub.status.busy": "2021-06-24T08:40:32.023888Z",
     "iopub.status.idle": "2021-06-24T08:40:33.968099Z",
     "shell.execute_reply": "2021-06-24T08:40:33.967435Z",
     "shell.execute_reply.started": "2021-06-24T07:51:37.846299Z"
    },
    "papermill": {
     "duration": 1.969935,
     "end_time": "2021-06-24T08:40:33.968337",
     "exception": false,
     "start_time": "2021-06-24T08:40:31.998402",
     "status": "completed"
    },
    "tags": []
   },
   "outputs": [],
   "source": [
    "import numpy as np\n",
    "import pandas as pd\n",
    "import warnings\n",
    "import re\n",
    "import nltk\n",
    "from nltk import word_tokenize\n",
    "from nltk.tokenize import sent_tokenize\n",
    "from textblob import TextBlob\n",
    "import string\n",
    "from string import punctuation\n",
    "from nltk.corpus import stopwords\n",
    "from statistics import mean\n",
    "from heapq import nlargest\n",
    "from wordcloud import WordCloud\n",
    "import seaborn as sns\n",
    "import matplotlib.pyplot as plt\n",
    "\n",
    "stop_words = set(stopwords.words('english'))\n",
    "punctuation = punctuation + '\\n' + '—' + '“' + ',' + '”' + '‘' + '-' + '’'\n",
    "warnings.filterwarnings('ignore')"
   ]
  },
  {
   "cell_type": "code",
   "execution_count": 4,
   "metadata": {
    "execution": {
     "iopub.execute_input": "2021-06-24T08:40:34.006293Z",
     "iopub.status.busy": "2021-06-24T08:40:34.005638Z",
     "iopub.status.idle": "2021-06-24T08:40:49.741109Z",
     "shell.execute_reply": "2021-06-24T08:40:49.739926Z",
     "shell.execute_reply.started": "2021-06-24T07:51:39.637029Z"
    },
    "papermill": {
     "duration": 15.755679,
     "end_time": "2021-06-24T08:40:49.741309",
     "exception": false,
     "start_time": "2021-06-24T08:40:33.985630",
     "status": "completed"
    },
    "tags": []
   },
   "outputs": [],
   "source": [
    "# Importing the dataset\n",
    "df_1 = pd.read_csv(\"C:/Users/Hp/Downloads/CSE412/Text Summarizer/articles1.csv/articles1.csv\")"
   ]
  },
  {
   "cell_type": "code",
   "execution_count": 5,
   "metadata": {
    "execution": {
     "iopub.execute_input": "2021-06-24T08:40:49.874725Z",
     "iopub.status.busy": "2021-06-24T08:40:49.874031Z",
     "iopub.status.idle": "2021-06-24T08:40:49.947059Z",
     "shell.execute_reply": "2021-06-24T08:40:49.946528Z",
     "shell.execute_reply.started": "2021-06-24T07:51:56.786666Z"
    },
    "papermill": {
     "duration": 0.097766,
     "end_time": "2021-06-24T08:40:49.947229",
     "exception": false,
     "start_time": "2021-06-24T08:40:49.849463",
     "status": "completed"
    },
    "tags": []
   },
   "outputs": [],
   "source": [
    "# Making one Dataframe by appending all of them for the further process\n",
    "d = [df_1]\n",
    "df = pd.concat(d, keys = ['x', 'y', 'z'])\n",
    "df.rename(columns = {'content' : 'article'}, inplace = True);"
   ]
  },
  {
   "cell_type": "code",
   "execution_count": 6,
   "metadata": {
    "execution": {
     "iopub.execute_input": "2021-06-24T08:40:49.988658Z",
     "iopub.status.busy": "2021-06-24T08:40:49.987640Z",
     "iopub.status.idle": "2021-06-24T08:40:50.013368Z",
     "shell.execute_reply": "2021-06-24T08:40:50.012663Z",
     "shell.execute_reply.started": "2021-06-24T07:51:56.865511Z"
    },
    "papermill": {
     "duration": 0.04872,
     "end_time": "2021-06-24T08:40:50.013517",
     "exception": false,
     "start_time": "2021-06-24T08:40:49.964797",
     "status": "completed"
    },
    "tags": []
   },
   "outputs": [
    {
     "data": {
      "text/html": [
       "<div>\n",
       "<style scoped>\n",
       "    .dataframe tbody tr th:only-of-type {\n",
       "        vertical-align: middle;\n",
       "    }\n",
       "\n",
       "    .dataframe tbody tr th {\n",
       "        vertical-align: top;\n",
       "    }\n",
       "\n",
       "    .dataframe thead th {\n",
       "        text-align: right;\n",
       "    }\n",
       "</style>\n",
       "<table border=\"1\" class=\"dataframe\">\n",
       "  <thead>\n",
       "    <tr style=\"text-align: right;\">\n",
       "      <th></th>\n",
       "      <th></th>\n",
       "      <th>Unnamed: 0</th>\n",
       "      <th>id</th>\n",
       "      <th>title</th>\n",
       "      <th>publication</th>\n",
       "      <th>author</th>\n",
       "      <th>date</th>\n",
       "      <th>year</th>\n",
       "      <th>month</th>\n",
       "      <th>url</th>\n",
       "      <th>article</th>\n",
       "    </tr>\n",
       "  </thead>\n",
       "  <tbody>\n",
       "    <tr>\n",
       "      <th rowspan=\"5\" valign=\"top\">x</th>\n",
       "      <th>0</th>\n",
       "      <td>0</td>\n",
       "      <td>17283</td>\n",
       "      <td>House Republicans Fret About Winning Their Hea...</td>\n",
       "      <td>New York Times</td>\n",
       "      <td>Carl Hulse</td>\n",
       "      <td>2016-12-31</td>\n",
       "      <td>2016.0</td>\n",
       "      <td>12.0</td>\n",
       "      <td>NaN</td>\n",
       "      <td>WASHINGTON  —   Congressional Republicans have...</td>\n",
       "    </tr>\n",
       "    <tr>\n",
       "      <th>1</th>\n",
       "      <td>1</td>\n",
       "      <td>17284</td>\n",
       "      <td>Rift Between Officers and Residents as Killing...</td>\n",
       "      <td>New York Times</td>\n",
       "      <td>Benjamin Mueller and Al Baker</td>\n",
       "      <td>2017-06-19</td>\n",
       "      <td>2017.0</td>\n",
       "      <td>6.0</td>\n",
       "      <td>NaN</td>\n",
       "      <td>After the bullet shells get counted, the blood...</td>\n",
       "    </tr>\n",
       "    <tr>\n",
       "      <th>2</th>\n",
       "      <td>2</td>\n",
       "      <td>17285</td>\n",
       "      <td>Tyrus Wong, ‘Bambi’ Artist Thwarted by Racial ...</td>\n",
       "      <td>New York Times</td>\n",
       "      <td>Margalit Fox</td>\n",
       "      <td>2017-01-06</td>\n",
       "      <td>2017.0</td>\n",
       "      <td>1.0</td>\n",
       "      <td>NaN</td>\n",
       "      <td>When Walt Disney’s “Bambi” opened in 1942, cri...</td>\n",
       "    </tr>\n",
       "    <tr>\n",
       "      <th>3</th>\n",
       "      <td>3</td>\n",
       "      <td>17286</td>\n",
       "      <td>Among Deaths in 2016, a Heavy Toll in Pop Musi...</td>\n",
       "      <td>New York Times</td>\n",
       "      <td>William McDonald</td>\n",
       "      <td>2017-04-10</td>\n",
       "      <td>2017.0</td>\n",
       "      <td>4.0</td>\n",
       "      <td>NaN</td>\n",
       "      <td>Death may be the great equalizer, but it isn’t...</td>\n",
       "    </tr>\n",
       "    <tr>\n",
       "      <th>4</th>\n",
       "      <td>4</td>\n",
       "      <td>17287</td>\n",
       "      <td>Kim Jong-un Says North Korea Is Preparing to T...</td>\n",
       "      <td>New York Times</td>\n",
       "      <td>Choe Sang-Hun</td>\n",
       "      <td>2017-01-02</td>\n",
       "      <td>2017.0</td>\n",
       "      <td>1.0</td>\n",
       "      <td>NaN</td>\n",
       "      <td>SEOUL, South Korea  —   North Korea’s leader, ...</td>\n",
       "    </tr>\n",
       "  </tbody>\n",
       "</table>\n",
       "</div>"
      ],
      "text/plain": [
       "     Unnamed: 0     id                                              title  \\\n",
       "x 0           0  17283  House Republicans Fret About Winning Their Hea...   \n",
       "  1           1  17284  Rift Between Officers and Residents as Killing...   \n",
       "  2           2  17285  Tyrus Wong, ‘Bambi’ Artist Thwarted by Racial ...   \n",
       "  3           3  17286  Among Deaths in 2016, a Heavy Toll in Pop Musi...   \n",
       "  4           4  17287  Kim Jong-un Says North Korea Is Preparing to T...   \n",
       "\n",
       "        publication                         author        date    year  month  \\\n",
       "x 0  New York Times                     Carl Hulse  2016-12-31  2016.0   12.0   \n",
       "  1  New York Times  Benjamin Mueller and Al Baker  2017-06-19  2017.0    6.0   \n",
       "  2  New York Times                   Margalit Fox  2017-01-06  2017.0    1.0   \n",
       "  3  New York Times               William McDonald  2017-04-10  2017.0    4.0   \n",
       "  4  New York Times                  Choe Sang-Hun  2017-01-02  2017.0    1.0   \n",
       "\n",
       "     url                                            article  \n",
       "x 0  NaN  WASHINGTON  —   Congressional Republicans have...  \n",
       "  1  NaN  After the bullet shells get counted, the blood...  \n",
       "  2  NaN  When Walt Disney’s “Bambi” opened in 1942, cri...  \n",
       "  3  NaN  Death may be the great equalizer, but it isn’t...  \n",
       "  4  NaN  SEOUL, South Korea  —   North Korea’s leader, ...  "
      ]
     },
     "execution_count": 6,
     "metadata": {},
     "output_type": "execute_result"
    }
   ],
   "source": [
    "df.head()"
   ]
  },
  {
   "cell_type": "code",
   "execution_count": 7,
   "metadata": {
    "execution": {
     "iopub.execute_input": "2021-06-24T08:40:50.056027Z",
     "iopub.status.busy": "2021-06-24T08:40:50.055352Z",
     "iopub.status.idle": "2021-06-24T08:40:50.059684Z",
     "shell.execute_reply": "2021-06-24T08:40:50.058838Z",
     "shell.execute_reply.started": "2021-06-24T07:51:56.896191Z"
    },
    "papermill": {
     "duration": 0.026884,
     "end_time": "2021-06-24T08:40:50.059874",
     "exception": false,
     "start_time": "2021-06-24T08:40:50.032990",
     "status": "completed"
    },
    "tags": []
   },
   "outputs": [
    {
     "name": "stdout",
     "output_type": "stream",
     "text": [
      "The shape of the dataset :  (50000, 10)\n"
     ]
    }
   ],
   "source": [
    "# Shape of the dataset\n",
    "print (\"The shape of the dataset : \", df.shape)"
   ]
  },
  {
   "cell_type": "code",
   "execution_count": 8,
   "metadata": {
    "execution": {
     "iopub.execute_input": "2021-06-24T08:40:50.145648Z",
     "iopub.status.busy": "2021-06-24T08:40:50.119926Z",
     "iopub.status.idle": "2021-06-24T08:40:50.190054Z",
     "shell.execute_reply": "2021-06-24T08:40:50.189578Z",
     "shell.execute_reply.started": "2021-06-24T07:51:56.903322Z"
    },
    "papermill": {
     "duration": 0.110479,
     "end_time": "2021-06-24T08:40:50.190213",
     "exception": false,
     "start_time": "2021-06-24T08:40:50.079734",
     "status": "completed"
    },
    "tags": []
   },
   "outputs": [
    {
     "data": {
      "text/html": [
       "<div>\n",
       "<style scoped>\n",
       "    .dataframe tbody tr th:only-of-type {\n",
       "        vertical-align: middle;\n",
       "    }\n",
       "\n",
       "    .dataframe tbody tr th {\n",
       "        vertical-align: top;\n",
       "    }\n",
       "\n",
       "    .dataframe thead th {\n",
       "        text-align: right;\n",
       "    }\n",
       "</style>\n",
       "<table border=\"1\" class=\"dataframe\">\n",
       "  <thead>\n",
       "    <tr style=\"text-align: right;\">\n",
       "      <th></th>\n",
       "      <th></th>\n",
       "      <th>id</th>\n",
       "      <th>title</th>\n",
       "      <th>publication</th>\n",
       "      <th>author</th>\n",
       "      <th>date</th>\n",
       "      <th>year</th>\n",
       "      <th>month</th>\n",
       "      <th>url</th>\n",
       "      <th>article</th>\n",
       "    </tr>\n",
       "  </thead>\n",
       "  <tbody>\n",
       "    <tr>\n",
       "      <th rowspan=\"5\" valign=\"top\">x</th>\n",
       "      <th>0</th>\n",
       "      <td>17283</td>\n",
       "      <td>House Republicans Fret About Winning Their Hea...</td>\n",
       "      <td>New York Times</td>\n",
       "      <td>Carl Hulse</td>\n",
       "      <td>2016-12-31</td>\n",
       "      <td>2016.0</td>\n",
       "      <td>12.0</td>\n",
       "      <td>NaN</td>\n",
       "      <td>WASHINGTON  —   Congressional Republicans have...</td>\n",
       "    </tr>\n",
       "    <tr>\n",
       "      <th>1</th>\n",
       "      <td>17284</td>\n",
       "      <td>Rift Between Officers and Residents as Killing...</td>\n",
       "      <td>New York Times</td>\n",
       "      <td>Benjamin Mueller and Al Baker</td>\n",
       "      <td>2017-06-19</td>\n",
       "      <td>2017.0</td>\n",
       "      <td>6.0</td>\n",
       "      <td>NaN</td>\n",
       "      <td>After the bullet shells get counted, the blood...</td>\n",
       "    </tr>\n",
       "    <tr>\n",
       "      <th>2</th>\n",
       "      <td>17285</td>\n",
       "      <td>Tyrus Wong, ‘Bambi’ Artist Thwarted by Racial ...</td>\n",
       "      <td>New York Times</td>\n",
       "      <td>Margalit Fox</td>\n",
       "      <td>2017-01-06</td>\n",
       "      <td>2017.0</td>\n",
       "      <td>1.0</td>\n",
       "      <td>NaN</td>\n",
       "      <td>When Walt Disney’s “Bambi” opened in 1942, cri...</td>\n",
       "    </tr>\n",
       "    <tr>\n",
       "      <th>3</th>\n",
       "      <td>17286</td>\n",
       "      <td>Among Deaths in 2016, a Heavy Toll in Pop Musi...</td>\n",
       "      <td>New York Times</td>\n",
       "      <td>William McDonald</td>\n",
       "      <td>2017-04-10</td>\n",
       "      <td>2017.0</td>\n",
       "      <td>4.0</td>\n",
       "      <td>NaN</td>\n",
       "      <td>Death may be the great equalizer, but it isn’t...</td>\n",
       "    </tr>\n",
       "    <tr>\n",
       "      <th>4</th>\n",
       "      <td>17287</td>\n",
       "      <td>Kim Jong-un Says North Korea Is Preparing to T...</td>\n",
       "      <td>New York Times</td>\n",
       "      <td>Choe Sang-Hun</td>\n",
       "      <td>2017-01-02</td>\n",
       "      <td>2017.0</td>\n",
       "      <td>1.0</td>\n",
       "      <td>NaN</td>\n",
       "      <td>SEOUL, South Korea  —   North Korea’s leader, ...</td>\n",
       "    </tr>\n",
       "  </tbody>\n",
       "</table>\n",
       "</div>"
      ],
      "text/plain": [
       "        id                                              title     publication  \\\n",
       "x 0  17283  House Republicans Fret About Winning Their Hea...  New York Times   \n",
       "  1  17284  Rift Between Officers and Residents as Killing...  New York Times   \n",
       "  2  17285  Tyrus Wong, ‘Bambi’ Artist Thwarted by Racial ...  New York Times   \n",
       "  3  17286  Among Deaths in 2016, a Heavy Toll in Pop Musi...  New York Times   \n",
       "  4  17287  Kim Jong-un Says North Korea Is Preparing to T...  New York Times   \n",
       "\n",
       "                            author        date    year  month  url  \\\n",
       "x 0                     Carl Hulse  2016-12-31  2016.0   12.0  NaN   \n",
       "  1  Benjamin Mueller and Al Baker  2017-06-19  2017.0    6.0  NaN   \n",
       "  2                   Margalit Fox  2017-01-06  2017.0    1.0  NaN   \n",
       "  3               William McDonald  2017-04-10  2017.0    4.0  NaN   \n",
       "  4                  Choe Sang-Hun  2017-01-02  2017.0    1.0  NaN   \n",
       "\n",
       "                                               article  \n",
       "x 0  WASHINGTON  —   Congressional Republicans have...  \n",
       "  1  After the bullet shells get counted, the blood...  \n",
       "  2  When Walt Disney’s “Bambi” opened in 1942, cri...  \n",
       "  3  Death may be the great equalizer, but it isn’t...  \n",
       "  4  SEOUL, South Korea  —   North Korea’s leader, ...  "
      ]
     },
     "execution_count": 8,
     "metadata": {},
     "output_type": "execute_result"
    }
   ],
   "source": [
    "# Dropping the unnecessary columns\n",
    "df.drop(columns = ['Unnamed: 0'], inplace = True)\n",
    "df.head()"
   ]
  },
  {
   "cell_type": "code",
   "execution_count": 9,
   "metadata": {
    "execution": {
     "iopub.execute_input": "2021-06-24T08:40:50.256291Z",
     "iopub.status.busy": "2021-06-24T08:40:50.255607Z",
     "iopub.status.idle": "2021-06-24T08:40:50.719257Z",
     "shell.execute_reply": "2021-06-24T08:40:50.718596Z",
     "shell.execute_reply.started": "2021-06-24T08:32:34.407462Z"
    },
    "papermill": {
     "duration": 0.51012,
     "end_time": "2021-06-24T08:40:50.719403",
     "exception": false,
     "start_time": "2021-06-24T08:40:50.209283",
     "status": "completed"
    },
    "tags": []
   },
   "outputs": [
    {
     "data": {
      "image/png": "[encoded data removed]",
      "text/plain": [
       "<Figure size 1080x576 with 1 Axes>"
      ]
     },
     "metadata": {},
     "output_type": "display_data"
    }
   ],
   "source": [
    "# Set the size of the figure\n",
    "plt.rcParams['figure.figsize'] = [15, 8]\n",
    "\n",
    "# Set the font scale and style for seaborn\n",
    "sns.set(font_scale=1.2, style='whitegrid')\n",
    "\n",
    "# Create a countplot to show the distribution of 'Publication' in the DataFrame 'df'\n",
    "sns_year = sns.countplot(df['publication'], color='#8adab2')\n",
    "\n",
    "# Set labels for the x-axis and y-axis, and a title for the plot\n",
    "sns_year.set(xlabel=\"Publication\", ylabel=\"Count\", title=\"Distribution of Publication according\")\n",
    "\n",
    "# Display the plot\n",
    "plt.show()\n"
   ]
  },
  {
   "cell_type": "markdown",
   "metadata": {
    "papermill": {
     "duration": 0.02101,
     "end_time": "2021-06-24T08:40:50.761957",
     "exception": false,
     "start_time": "2021-06-24T08:40:50.740947",
     "status": "completed"
    },
    "tags": []
   },
   "source": [
    "# 2 Exploratory Data Analysis"
   ]
  },
  {
   "cell_type": "code",
   "execution_count": 10,
   "metadata": {
    "execution": {
     "iopub.execute_input": "2021-06-24T08:40:50.810146Z",
     "iopub.status.busy": "2021-06-24T08:40:50.809208Z",
     "iopub.status.idle": "2021-06-24T08:40:50.812871Z",
     "shell.execute_reply": "2021-06-24T08:40:50.813437Z",
     "shell.execute_reply.started": "2021-06-24T07:51:56.998181Z"
    },
    "papermill": {
     "duration": 0.030315,
     "end_time": "2021-06-24T08:40:50.813615",
     "exception": false,
     "start_time": "2021-06-24T08:40:50.783300",
     "status": "completed"
    },
    "tags": []
   },
   "outputs": [],
   "source": [
    "# Replacing the unnecessary row value of year with it's actual values\n",
    "df['year'] = df['year'].replace(\"https://www.nytimes.com/2016/12/31/nyregion/bronx-murder-40th-precinct-police-residents.html\", 2016)"
   ]
  },
  {
   "cell_type": "code",
   "execution_count": 11,
   "metadata": {
    "execution": {
     "iopub.execute_input": "2021-06-24T08:40:50.863404Z",
     "iopub.status.busy": "2021-06-24T08:40:50.862758Z",
     "iopub.status.idle": "2021-06-24T08:40:50.871782Z",
     "shell.execute_reply": "2021-06-24T08:40:50.872236Z",
     "shell.execute_reply.started": "2021-06-24T07:51:57.007467Z"
    },
    "papermill": {
     "duration": 0.037073,
     "end_time": "2021-06-24T08:40:50.872410",
     "exception": false,
     "start_time": "2021-06-24T08:40:50.835337",
     "status": "completed"
    },
    "tags": []
   },
   "outputs": [
    {
     "data": {
      "text/plain": [
       "2016.0    28451\n",
       "2017.0    17908\n",
       "2015.0     3326\n",
       "2013.0      212\n",
       "2014.0       76\n",
       "2012.0       26\n",
       "2011.0        1\n",
       "Name: year, dtype: int64"
      ]
     },
     "execution_count": 11,
     "metadata": {},
     "output_type": "execute_result"
    }
   ],
   "source": [
    "# Years\n",
    "df['year'].value_counts()"
   ]
  },
  {
   "cell_type": "code",
   "execution_count": 12,
   "metadata": {
    "execution": {
     "iopub.execute_input": "2021-06-24T08:40:50.922900Z",
     "iopub.status.busy": "2021-06-24T08:40:50.922258Z",
     "iopub.status.idle": "2021-06-24T08:40:51.248193Z",
     "shell.execute_reply": "2021-06-24T08:40:51.248754Z",
     "shell.execute_reply.started": "2021-06-24T07:51:57.027416Z"
    },
    "papermill": {
     "duration": 0.354861,
     "end_time": "2021-06-24T08:40:51.248945",
     "exception": false,
     "start_time": "2021-06-24T08:40:50.894084",
     "status": "completed"
    },
    "tags": []
   },
   "outputs": [
    {
     "data": {
      "image/png": "[encoded data removed]",
      "text/plain": [
       "<Figure size 1080x576 with 1 Axes>"
      ]
     },
     "metadata": {},
     "output_type": "display_data"
    }
   ],
   "source": [
    "# Set the size of the figure\n",
    "plt.rcParams['figure.figsize'] = [15, 8]\n",
    "\n",
    "# Set the font scale and style for seaborn\n",
    "sns.set(font_scale=1.0, style='whitegrid')\n",
    "\n",
    "# Create a countplot to show the distribution of 'year' in the DataFrame 'df'\n",
    "sns_year = sns.countplot(df['year'], color='#8adab2')\n",
    "\n",
    "# Set labels for the x-axis and y-axis, and a title for the plot\n",
    "sns_year.set(xlabel=\"Year\", ylabel=\"Count\", title=\"Distribution of the articles according to the year\")\n",
    "\n",
    "# Display the plot\n",
    "plt.show()\n"
   ]
  },
  {
   "cell_type": "code",
   "execution_count": 13,
   "metadata": {
    "execution": {
     "iopub.execute_input": "2021-06-24T08:40:51.335770Z",
     "iopub.status.busy": "2021-06-24T08:40:51.334287Z",
     "iopub.status.idle": "2021-06-24T08:40:51.347648Z",
     "shell.execute_reply": "2021-06-24T08:40:51.346954Z",
     "shell.execute_reply.started": "2021-06-24T07:51:57.400069Z"
    },
    "papermill": {
     "duration": 0.075438,
     "end_time": "2021-06-24T08:40:51.347793",
     "exception": false,
     "start_time": "2021-06-24T08:40:51.272355",
     "status": "completed"
    },
    "tags": []
   },
   "outputs": [
    {
     "data": {
      "text/plain": [
       "Breitbart News                                                     1559\n",
       "Pam Key                                                            1282\n",
       "Charlie Spiering                                                    928\n",
       "Jerome Hudson                                                       806\n",
       "John Hayward                                                        747\n",
       "                                                                   ... \n",
       "Julie Bosman and Monica Davey                                         1\n",
       "Michael D. Shear, Maggie Haberman and Alan Rappeport                  1\n",
       "Nicholas Fandos and Eric Lipton                                       1\n",
       "Alan Rappeport, Eric Lichtblau, Maggie Haberman and Adam Liptak       1\n",
       "Julia Ioffe                                                           1\n",
       "Name: author, Length: 3603, dtype: int64"
      ]
     },
     "execution_count": 13,
     "metadata": {},
     "output_type": "execute_result"
    }
   ],
   "source": [
    "# Authors\n",
    "df['author'].value_counts()"
   ]
  },
  {
   "cell_type": "code",
   "execution_count": 14,
   "metadata": {
    "execution": {
     "iopub.execute_input": "2021-06-24T08:40:51.436364Z",
     "iopub.status.busy": "2021-06-24T08:40:51.434797Z",
     "iopub.status.idle": "2021-06-24T08:40:53.333584Z",
     "shell.execute_reply": "2021-06-24T08:40:53.334084Z",
     "shell.execute_reply.started": "2021-06-24T08:39:10.012932Z"
    },
    "papermill": {
     "duration": 1.962925,
     "end_time": "2021-06-24T08:40:53.334278",
     "exception": false,
     "start_time": "2021-06-24T08:40:51.371353",
     "status": "completed"
    },
    "tags": []
   },
   "outputs": [
    {
     "data": {
      "image/png": "[encoded data removed]",
      "text/plain": [
       "<Figure size 1080x1080 with 1 Axes>"
      ]
     },
     "metadata": {},
     "output_type": "display_data"
    }
   ],
   "source": [
    "# Set the size of the figure\n",
    "plt.rcParams['figure.figsize'] = [15, 15]\n",
    "\n",
    "# Set the font scale and style for seaborn\n",
    "sns.set(font_scale=1, style='whitegrid')\n",
    "\n",
    "# Count the occurrences of each author and select the top 80\n",
    "df_author = df.author.value_counts().head(80)\n",
    "\n",
    "# Create a barplot to show the distribution of authors\n",
    "sns.barplot(df_author, df_author.index)\n",
    "\n",
    "# Set labels for the x-axis and y-axis, and a title for the plot\n",
    "sns_year.set(xlabel=\"Count\", ylabel=\"Author\", title=\"The Most Frequent Authors\")\n",
    "\n",
    "# Display the plot\n",
    "plt.show()\n"
   ]
  },
  {
   "cell_type": "markdown",
   "metadata": {
    "papermill": {
     "duration": 0.027362,
     "end_time": "2021-06-24T08:40:53.460892",
     "exception": false,
     "start_time": "2021-06-24T08:40:53.433530",
     "status": "completed"
    },
    "tags": []
   },
   "source": [
    "# 3 Making the Article Summarizer"
   ]
  },
  {
   "cell_type": "code",
   "execution_count": 15,
   "metadata": {
    "execution": {
     "iopub.execute_input": "2021-06-24T08:40:53.576798Z",
     "iopub.status.busy": "2021-06-24T08:40:53.554226Z",
     "iopub.status.idle": "2021-06-24T08:40:53.579762Z",
     "shell.execute_reply": "2021-06-24T08:40:53.579098Z",
     "shell.execute_reply.started": "2021-06-24T07:51:57.470472Z"
    },
    "papermill": {
     "duration": 0.091071,
     "end_time": "2021-06-24T08:40:53.579914",
     "exception": false,
     "start_time": "2021-06-24T08:40:53.488843",
     "status": "completed"
    },
    "tags": []
   },
   "outputs": [],
   "source": [
    "contractions_dict = { \n",
    "\"ain't\": \"am not\",\n",
    "\"aren't\": \"are not\",\n",
    "\"can't\": \"cannot\",\n",
    "\"can't've\": \"cannot have\",\n",
    "\"'cause\": \"because\",\n",
    "\"could've\": \"could have\",\n",
    "\"couldn't\": \"could not\",\n",
    "\"couldn't've\": \"could not have\",\n",
    "\"didn't\": \"did not\",\n",
    "\"doesn't\": \"does not\",\n",
    "\"doesn’t\": \"does not\",\n",
    "\"don't\": \"do not\",\n",
    "\"don’t\": \"do not\",\n",
    "\"hadn't\": \"had not\",\n",
    "\"hadn't've\": \"had not have\",\n",
    "\"hasn't\": \"has not\",\n",
    "\"haven't\": \"have not\",\n",
    "\"he'd\": \"he had\",\n",
    "\"he'd've\": \"he would have\",\n",
    "\"he'll\": \"he will\",\n",
    "\"he'll've\": \"he will have\",\n",
    "\"he's\": \"he is\",\n",
    "\"how'd\": \"how did\",\n",
    "\"how'd'y\": \"how do you\",\n",
    "\"how'll\": \"how will\",\n",
    "\"how's\": \"how is\",\n",
    "\"i'd\": \"i would\",\n",
    "\"i'd've\": \"i would have\",\n",
    "\"i'll\": \"i will\",\n",
    "\"i'll've\": \"i will have\",\n",
    "\"i'm\": \"i am\",\n",
    "\"i've\": \"i have\",\n",
    "\"isn't\": \"is not\",\n",
    "\"it'd\": \"it would\",\n",
    "\"it'd've\": \"it would have\",\n",
    "\"it'll\": \"it will\",\n",
    "\"it'll've\": \"it will have\",\n",
    "\"it's\": \"it is\",\n",
    "\"let's\": \"let us\",\n",
    "\"ma'am\": \"madam\",\n",
    "\"mayn't\": \"may not\",\n",
    "\"might've\": \"might have\",\n",
    "\"mightn't\": \"might not\",\n",
    "\"mightn't've\": \"might not have\",\n",
    "\"must've\": \"must have\",\n",
    "\"mustn't\": \"must not\",\n",
    "\"mustn't've\": \"must not have\",\n",
    "\"needn't\": \"need not\",\n",
    "\"needn't've\": \"need not have\",\n",
    "\"o'clock\": \"of the clock\",\n",
    "\"oughtn't\": \"ought not\",\n",
    "\"oughtn't've\": \"ought not have\",\n",
    "\"shan't\": \"shall not\",\n",
    "\"sha'n't\": \"shall not\",\n",
    "\"shan't've\": \"shall not have\",\n",
    "\"she'd\": \"she would\",\n",
    "\"she'd've\": \"she would have\",\n",
    "\"she'll\": \"she will\",\n",
    "\"she'll've\": \"she will have\",\n",
    "\"she's\": \"she is\",\n",
    "\"should've\": \"should have\",\n",
    "\"shouldn't\": \"should not\",\n",
    "\"shouldn't've\": \"should not have\",\n",
    "\"so've\": \"so have\",\n",
    "\"so's\": \"so is\",\n",
    "\"that'd\": \"that would\",\n",
    "\"that'd've\": \"that would have\",\n",
    "\"that's\": \"that is\",\n",
    "\"there'd\": \"there would\",\n",
    "\"there'd've\": \"there would have\",\n",
    "\"there's\": \"there is\",\n",
    "\"they'd\": \"they would\",\n",
    "\"they'd've\": \"they would have\",\n",
    "\"they'll\": \"they will\",\n",
    "\"they'll've\": \"they will have\",\n",
    "\"they're\": \"they are\",\n",
    "\"they've\": \"they have\",\n",
    "\"to've\": \"to have\",\n",
    "\"wasn't\": \"was not\",\n",
    "\"we'd\": \"we would\",\n",
    "\"we'd've\": \"we would have\",\n",
    "\"we'll\": \"we will\",\n",
    "\"we'll've\": \"we will have\",\n",
    "\"we're\": \"we are\",\n",
    "\"we've\": \"we have\",\n",
    "\"weren't\": \"were not\",\n",
    "\"what'll\": \"what will\",\n",
    "\"what'll've\": \"what will have\",\n",
    "\"what're\": \"what are\",\n",
    "\"what's\": \"what is\",\n",
    "\"what've\": \"what have\",\n",
    "\"when's\": \"when is\",\n",
    "\"when've\": \"when have\",\n",
    "\"where'd\": \"where did\",\n",
    "\"where's\": \"where is\",\n",
    "\"where've\": \"where have\",\n",
    "\"who'll\": \"who will\",\n",
    "\"who'll've\": \"who will have\",\n",
    "\"who's\": \"who is\",\n",
    "\"who've\": \"who have\",\n",
    "\"why's\": \"why is\",\n",
    "\"why've\": \"why have\",\n",
    "\"will've\": \"will have\",\n",
    "\"won't\": \"will not\",\n",
    "\"won't've\": \"will not have\",\n",
    "\"would've\": \"would have\",\n",
    "\"wouldn't\": \"would not\",\n",
    "\"wouldn't've\": \"would not have\",\n",
    "\"y'all\": \"you all\",\n",
    "\"y’all\": \"you all\",\n",
    "\"y'all'd\": \"you all would\",\n",
    "\"y'all'd've\": \"you all would have\",\n",
    "\"y'all're\": \"you all are\",\n",
    "\"y'all've\": \"you all have\",\n",
    "\"you'd\": \"you would\",\n",
    "\"you'd've\": \"you would have\",\n",
    "\"you'll\": \"you will\",\n",
    "\"you'll've\": \"you will have\",\n",
    "\"you're\": \"you are\",\n",
    "\"you've\": \"you have\",\n",
    "\"ain’t\": \"am not\",\n",
    "\"aren’t\": \"are not\",\n",
    "\"can’t\": \"cannot\",\n",
    "\"can’t’ve\": \"cannot have\",\n",
    "\"’cause\": \"because\",\n",
    "\"could’ve\": \"could have\",\n",
    "\"couldn’t\": \"could not\",\n",
    "\"couldn’t’ve\": \"could not have\",\n",
    "\"didn’t\": \"did not\",\n",
    "\"doesn’t\": \"does not\",\n",
    "\"don’t\": \"do not\",\n",
    "\"don’t\": \"do not\",\n",
    "\"hadn’t\": \"had not\",\n",
    "\"hadn’t’ve\": \"had not have\",\n",
    "\"hasn’t\": \"has not\",\n",
    "\"haven’t\": \"have not\",\n",
    "\"he’d\": \"he had\",\n",
    "\"he’d’ve\": \"he would have\",\n",
    "\"he’ll\": \"he will\",\n",
    "\"he’ll’ve\": \"he will have\",\n",
    "\"he’s\": \"he is\",\n",
    "\"how’d\": \"how did\",\n",
    "\"how’d’y\": \"how do you\",\n",
    "\"how’ll\": \"how will\",\n",
    "\"how’s\": \"how is\",\n",
    "\"i’d\": \"i would\",\n",
    "\"i’d’ve\": \"i would have\",\n",
    "\"i’ll\": \"i will\",\n",
    "\"i’ll’ve\": \"i will have\",\n",
    "\"i’m\": \"i am\",\n",
    "\"i’ve\": \"i have\",\n",
    "\"isn’t\": \"is not\",\n",
    "\"it’d\": \"it would\",\n",
    "\"it’d’ve\": \"it would have\",\n",
    "\"it’ll\": \"it will\",\n",
    "\"it’ll’ve\": \"it will have\",\n",
    "\"it’s\": \"it is\",\n",
    "\"let’s\": \"let us\",\n",
    "\"ma’am\": \"madam\",\n",
    "\"mayn’t\": \"may not\",\n",
    "\"might’ve\": \"might have\",\n",
    "\"mightn’t\": \"might not\",\n",
    "\"mightn’t’ve\": \"might not have\",\n",
    "\"must’ve\": \"must have\",\n",
    "\"mustn’t\": \"must not\",\n",
    "\"mustn’t’ve\": \"must not have\",\n",
    "\"needn’t\": \"need not\",\n",
    "\"needn’t’ve\": \"need not have\",\n",
    "\"o’clock\": \"of the clock\",\n",
    "\"oughtn’t\": \"ought not\",\n",
    "\"oughtn’t’ve\": \"ought not have\",\n",
    "\"shan’t\": \"shall not\",\n",
    "\"sha’n’t\": \"shall not\",\n",
    "\"shan’t’ve\": \"shall not have\",\n",
    "\"she’d\": \"she would\",\n",
    "\"she’d’ve\": \"she would have\",\n",
    "\"she’ll\": \"she will\",\n",
    "\"she’ll’ve\": \"she will have\",\n",
    "\"she’s\": \"she is\",\n",
    "\"should’ve\": \"should have\",\n",
    "\"shouldn’t\": \"should not\",\n",
    "\"shouldn’t’ve\": \"should not have\",\n",
    "\"so’ve\": \"so have\",\n",
    "\"so’s\": \"so is\",\n",
    "\"that’d\": \"that would\",\n",
    "\"that’d’ve\": \"that would have\",\n",
    "\"that’s\": \"that is\",\n",
    "\"there’d\": \"there would\",\n",
    "\"there’d’ve\": \"there would have\",\n",
    "\"there’s\": \"there is\",\n",
    "\"they’d\": \"they would\",\n",
    "\"they’d’ve\": \"they would have\",\n",
    "\"they’ll\": \"they will\",\n",
    "\"they’ll’ve\": \"they will have\",\n",
    "\"they’re\": \"they are\",\n",
    "\"they’ve\": \"they have\",\n",
    "\"to’ve\": \"to have\",\n",
    "\"wasn’t\": \"was not\",\n",
    "\"we’d\": \"we would\",\n",
    "\"we’d’ve\": \"we would have\",\n",
    "\"we’ll\": \"we will\",\n",
    "\"we’ll’ve\": \"we will have\",\n",
    "\"we’re\": \"we are\",\n",
    "\"we’ve\": \"we have\",\n",
    "\"weren’t\": \"were not\",\n",
    "\"what’ll\": \"what will\",\n",
    "\"what’ll’ve\": \"what will have\",\n",
    "\"what’re\": \"what are\",\n",
    "\"what’s\": \"what is\",\n",
    "\"what’ve\": \"what have\",\n",
    "\"when’s\": \"when is\",\n",
    "\"when’ve\": \"when have\",\n",
    "\"where’d\": \"where did\",\n",
    "\"where’s\": \"where is\",\n",
    "\"where’ve\": \"where have\",\n",
    "\"who’ll\": \"who will\",\n",
    "\"who’ll’ve\": \"who will have\",\n",
    "\"who’s\": \"who is\",\n",
    "\"who’ve\": \"who have\",\n",
    "\"why’s\": \"why is\",\n",
    "\"why’ve\": \"why have\",\n",
    "\"will’ve\": \"will have\",\n",
    "\"won’t\": \"will not\",\n",
    "\"won’t’ve\": \"will not have\",\n",
    "\"would’ve\": \"would have\",\n",
    "\"wouldn’t\": \"would not\",\n",
    "\"wouldn’t’ve\": \"would not have\",\n",
    "\"y’all\": \"you all\",\n",
    "\"y’all\": \"you all\",\n",
    "\"y’all’d\": \"you all would\",\n",
    "\"y’all’d’ve\": \"you all would have\",\n",
    "\"y’all’re\": \"you all are\",\n",
    "\"y’all’ve\": \"you all have\",\n",
    "\"you’d\": \"you would\",\n",
    "\"you’d’ve\": \"you would have\",\n",
    "\"you’ll\": \"you will\",\n",
    "\"you’ll’ve\": \"you will have\",\n",
    "\"you’re\": \"you are\",\n",
    "\"you’re\": \"you are\",\n",
    "\"you’ve\": \"you have\",\n",
    "}"
   ]
  },
  {
   "cell_type": "code",
   "execution_count": 16,
   "metadata": {},
   "outputs": [],
   "source": [
    "import pandas as pd\n",
    "import numpy as np\n",
    "import matplotlib.pyplot as plt\n",
    "import seaborn as sns\n",
    "import re\n",
    "from nltk.tokenize import word_tokenize, sent_tokenize\n",
    "from nltk.corpus import stopwords\n",
    "from nltk.probability import FreqDist\n",
    "from nltk.tokenize.treebank import TreebankWordDetokenizer\n",
    "from nltk.translate.bleu_score import sentence_bleu, SmoothingFunction\n",
    "from nltk.tag import pos_tag\n",
    "from heapq import nlargest\n",
    "from wordcloud import WordCloud\n",
    "from string import punctuation\n",
    "from sumy.parsers.plaintext import PlaintextParser\n",
    "from sumy.nlp.tokenizers import Tokenizer\n",
    "from sumy.summarizers.text_rank import TextRankSummarizer\n",
    "\n",
    "# Assuming 'contractions_dict' is defined somewhere in your code\n",
    "contractions_re = re.compile('(%s)' % '|'.join(contractions_dict.keys()))\n",
    "\n",
    "# Function to clean the HTML from the article\n",
    "def clean_html(raw_html):\n",
    "    cleanr = re.compile('<.*?>')\n",
    "    cleantext = re.sub(cleanr, '', raw_html)\n",
    "    return cleantext\n",
    "\n",
    "# Function to expand contractions\n",
    "def expand_contractions(s, contractions_dict=contractions_dict):\n",
    "    def replace(match):\n",
    "        return contractions_dict[match.group(0)]\n",
    "    return contractions_re.sub(replace, s)\n",
    "\n",
    "# Function to preprocess the articles\n",
    "def preprocessing(article):\n",
    "    global article_sent\n",
    "    \n",
    "    # Convert to lowercase\n",
    "    article = article.str.lower()\n",
    "    \n",
    "    # Remove HTML\n",
    "    article = article.apply(lambda x: clean_html(x))\n",
    "    \n",
    "    # Remove email IDs\n",
    "    article = article.apply(lambda x: re.sub(r'\\S+@\\S+', '', x))\n",
    "    \n",
    "    # Remove URLs\n",
    "    article = article.apply(lambda x: re.sub(r\"http\\S+|www\\S+|https\\S+\", '', x))\n",
    "    \n",
    "    # Remove '\\xa0'\n",
    "    article = article.apply(lambda x: x.replace(\"\\xa0\", \" \"))\n",
    "    \n",
    "    # Expand contractions\n",
    "    article = article.apply(lambda x: expand_contractions(x))\n",
    "    \n",
    "    # Strip possessives\n",
    "    article = article.apply(lambda x: x.replace(\"'s\", ''))\n",
    "    article = article.apply(lambda x: x.replace('’s', ''))\n",
    "    article = article.apply(lambda x: x.replace(\"\\'s\", ''))\n",
    "    article = article.apply(lambda x: x.replace(\"\\’s\", ''))\n",
    "    \n",
    "    # Remove trailing and leading whitespace and double spaces\n",
    "    article = article.apply(lambda x: re.sub(' +', ' ', x.strip()))\n",
    "    \n",
    "    # Copy the article for sentence tokenization\n",
    "    article_sent = article.copy()\n",
    "    \n",
    "    # Remove punctuation\n",
    "    article = article.apply(lambda x: ''.join(word for word in x if word not in punctuation))\n",
    "    \n",
    "    # Remove trailing and leading whitespace and double spaces again\n",
    "    article = article.apply(lambda x: re.sub(' +', ' ', x.strip()))\n",
    "    \n",
    "    # Remove stopwords\n",
    "    stop_words = set(stopwords.words('english'))\n",
    "    article = article.apply(lambda x: ' '.join(word for word in x.split() if word not in stop_words))\n",
    "    \n",
    "    return article\n",
    "\n",
    "# Function to normalize the word frequency which is used in the function word_frequency\n",
    "def normalize(li_word):\n",
    "    normalized_freq = []\n",
    "    for dictionary in li_word:\n",
    "        max_frequency = max(dictionary.values())\n",
    "        normalized_dict = {word: freq / max_frequency for word, freq in dictionary.items()}\n",
    "        normalized_freq.append(normalized_dict)\n",
    "    return normalized_freq\n",
    "\n",
    "# Function to calculate the word frequency\n",
    "def word_frequency(article_word):\n",
    "    li_word = []\n",
    "    for sentence in article_word:\n",
    "        word_frequency = {}\n",
    "        for word in word_tokenize(sentence):\n",
    "            word_frequency[word] = word_frequency.get(word, 0) + 1\n",
    "        li_word.append(word_frequency)\n",
    "    return normalize(li_word)\n",
    "\n",
    "# Function to Score the sentence which is called in the function sent_token\n",
    "def sentence_score(li, normalized_freq):\n",
    "    sentence_score_list = []\n",
    "    for list_, dictionary in zip(li, normalized_freq):\n",
    "        sentence_score = {}\n",
    "        for sent in list_:\n",
    "            for word in word_tokenize(sent):\n",
    "                if word in dictionary:\n",
    "                    sentence_score[sent] = sentence_score.get(sent, 0) + dictionary[word]\n",
    "        sentence_score_list.append(sentence_score)\n",
    "    return sentence_score_list\n",
    "\n",
    "# Function to tokenize the sentence\n",
    "def sent_token(article_sent):\n",
    "    sentence_list = []\n",
    "    sent_token = []\n",
    "    for sent in article_sent:\n",
    "        token = sent_tokenize(sent)\n",
    "        for sentence in token:\n",
    "            token_2 = ''.join(word for word in sentence if word not in punctuation)\n",
    "            token_2 = re.sub(' +', ' ', token_2)\n",
    "            sent_token.append(token_2)\n",
    "        sentence_list.append(sent_token)\n",
    "        sent_token = []\n",
    "    return sentence_score(sentence_list, normalized_freq)\n",
    "\n",
    "# Function which generates the summary of the articles (This uses the 20% of the sentences with the highest score)\n",
    "def summary(sentence_score_OwO):\n",
    "    summary_list = []\n",
    "    for summ in sentence_score_OwO:\n",
    "        select_length = int(len(summ) * 0.25)\n",
    "        summary_ = nlargest(select_length, summ, key=summ.get)\n",
    "        summary_list.append(\".\".join(summary_))\n",
    "    return summary_list\n",
    "\n",
    "# Functions to change the article string (if passed) to change it to generate a pandas series\n",
    "def make_series(art):\n",
    "    data_dict = {'article': [art]}\n",
    "    return pd.DataFrame(data_dict)['article']\n",
    "\n",
    "# Function which is to be called to generate the summary which in further calls other functions all together\n",
    "def article_summarize(artefact):\n",
    "    global normalized_freq\n",
    "    if type(artefact) != pd.Series:\n",
    "        artefact = make_series(artefact)\n",
    "    \n",
    "    df = preprocessing(artefact)\n",
    "    \n",
    "    normalized_freq = word_frequency(df)\n",
    "    \n",
    "    sentence_score_OwO = sent_token(article_sent)\n",
    "    \n",
    "    summarized_article = summary(sentence_score_OwO)\n",
    "    \n",
    "    return summarized_article\n",
    "\n",
    "# Function to apply TextRank summarization\n",
    "def textrank_summarize(article_text):\n",
    "    parser = PlaintextParser.from_string(article_text, Tokenizer(\"english\"))\n",
    "    summarizer = TextRankSummarizer()\n",
    "    summary = summarizer(parser.document, sentences_count=5)  # Adjust sentences_count as needed\n",
    "    return \" \".join(str(sentence) for sentence in summary)\n",
    "\n",
    "\n",
    "# Generating the Word Cloud of the article using the preprocessing and make_series function mentioned below\n",
    "def word_cloud(art):\n",
    "    art_ = make_series(art)\n",
    "    OwO = preprocessing(art_)\n",
    "    wordcloud_ = WordCloud(height=500, width=1000, background_color='white').generate(OwO)\n",
    "    plt.figure(figsize=(15, 10))\n",
    "    plt.imshow(wordcloud_, interpolation='bilinear')\n",
    "    plt.axis('off')\n",
    "\n",
    "# Generating the summaries for the first 100 articles\n",
    "summaries = article_summarize(df['article'][0:100])"
   ]
  },
  {
   "cell_type": "code",
   "execution_count": 17,
   "metadata": {},
   "outputs": [
    {
     "name": "stdout",
     "output_type": "stream",
     "text": [
      "The Actual length of the article is :  5607\n"
     ]
    },
    {
     "data": {
      "text/plain": [
       "'WASHINGTON  —   Congressional Republicans have a new fear when it comes to their    health care lawsuit against the Obama administration: They might win. The incoming Trump administration could choose to no longer defend the executive branch against the suit, which challenges the administration’s authority to spend billions of dollars on health insurance subsidies for   and   Americans, handing House Republicans a big victory on    issues. But a sudden loss of the disputed subsidies could conceivably cause the health care program to implode, leaving millions of people without access to health insurance before Republicans have prepared a replacement. That could lead to chaos in the insurance market and spur a political backlash just as Republicans gain full control of the government. To stave off that outcome, Republicans could find themselves in the awkward position of appropriating huge sums to temporarily prop up the Obama health care law, angering conservative voters who have been demanding an end to the law for years. In another twist, Donald J. Trump’s administration, worried about preserving executive branch prerogatives, could choose to fight its Republican allies in the House on some central questions in the dispute. Eager to avoid an ugly political pileup, Republicans on Capitol Hill and the Trump transition team are gaming out how to handle the lawsuit, which, after the election, has been put in limbo until at least late February by the United States Court of Appeals for the District of Columbia Circuit. They are not yet ready to divulge their strategy. “Given that this pending litigation involves the Obama administration and Congress, it would be inappropriate to comment,” said Phillip J. Blando, a spokesman for the Trump transition effort. “Upon taking office, the Trump administration will evaluate this case and all related aspects of the Affordable Care Act. ” In a potentially   decision in 2015, Judge Rosemary M. Collyer ruled that House Republicans had the standing to sue the executive branch over a spending dispute and that the Obama administration had been distributing the health insurance subsidies, in violation of the Constitution, without approval from Congress. The Justice Department, confident that Judge Collyer’s decision would be reversed, quickly appealed, and the subsidies have remained in place during the appeal. In successfully seeking a temporary halt in the proceedings after Mr. Trump won, House Republicans last month told the court that they “and the  ’s transition team currently are discussing potential options for resolution of this matter, to take effect after the  ’s inauguration on Jan. 20, 2017. ” The suspension of the case, House lawyers said, will “provide the   and his future administration time to consider whether to continue prosecuting or to otherwise resolve this appeal. ” Republican leadership officials in the House acknowledge the possibility of “cascading effects” if the   payments, which have totaled an estimated $13 billion, are suddenly stopped. Insurers that receive the subsidies in exchange for paying    costs such as deductibles and   for eligible consumers could race to drop coverage since they would be losing money. Over all, the loss of the subsidies could destabilize the entire program and cause a lack of confidence that leads other insurers to seek a quick exit as well. Anticipating that the Trump administration might not be inclined to mount a vigorous fight against the House Republicans given the  ’s dim view of the health care law, a team of lawyers this month sought to intervene in the case on behalf of two participants in the health care program. In their request, the lawyers predicted that a deal between House Republicans and the new administration to dismiss or settle the case “will produce devastating consequences for the individuals who receive these reductions, as well as for the nation’s health insurance and health care systems generally. ” No matter what happens, House Republicans say, they want to prevail on two overarching concepts: the congressional power of the purse, and the right of Congress to sue the executive branch if it violates the Constitution regarding that spending power. House Republicans contend that Congress never appropriated the money for the subsidies, as required by the Constitution. In the suit, which was initially championed by John A. Boehner, the House speaker at the time, and later in House committee reports, Republicans asserted that the administration, desperate for the funding, had required the Treasury Department to provide it despite widespread internal skepticism that the spending was proper. The White House said that the spending was a permanent part of the law passed in 2010, and that no annual appropriation was required  —   even though the administration initially sought one. Just as important to House Republicans, Judge Collyer found that Congress had the standing to sue the White House on this issue  —   a ruling that many legal experts said was flawed  —   and they want that precedent to be set to restore congressional leverage over the executive branch. But on spending power and standing, the Trump administration may come under pressure from advocates of presidential authority to fight the House no matter their shared views on health care, since those precedents could have broad repercussions. It is a complicated set of dynamics illustrating how a quick legal victory for the House in the Trump era might come with costs that Republicans never anticipated when they took on the Obama White House.'"
      ]
     },
     "execution_count": 17,
     "metadata": {},
     "output_type": "execute_result"
    }
   ],
   "source": [
    "print (\"The Actual length of the article is : \", len(df['article'][0]))\n",
    "df['article'][0]"
   ]
  },
  {
   "cell_type": "code",
   "execution_count": 18,
   "metadata": {},
   "outputs": [
    {
     "name": "stdout",
     "output_type": "stream",
     "text": [
      "The length of the summarized article is :  1688\n",
      "” In a potentially   decision in 2015, Judge Rosemary M. Collyer ruled that House Republicans had the standing to sue the executive branch over a spending dispute and that the Obama administration had been distributing the health insurance subsidies, in violation of the Constitution, without approval from Congress. Anticipating that the Trump administration might not be inclined to mount a vigorous fight against the House Republicans given the  ’s dim view of the health care law, a team of lawyers this month sought to intervene in the case on behalf of two participants in the health care program. In their request, the lawyers predicted that a deal between House Republicans and the new administration to dismiss or settle the case “will produce devastating consequences for the individuals who receive these reductions, as well as for the nation’s health insurance and health care systems generally. ” No matter what happens, House Republicans say, they want to prevail on two overarching concepts: the congressional power of the purse, and the right of Congress to sue the executive branch if it violates the Constitution regarding that spending power. In the suit, which was initially championed by John A. Boehner, the House speaker at the time, and later in House committee reports, Republicans asserted that the administration, desperate for the funding, had required the Treasury Department to provide it despite widespread internal skepticism that the spending was proper.\n"
     ]
    }
   ],
   "source": [
    "print (\"The length of the summarized article is : \", len(summaries[0]))\n",
    "textrank_summary = textrank_summarize(df.values[0])\n",
    "print(textrank_summary)"
   ]
  },
  {
   "cell_type": "code",
   "execution_count": 19,
   "metadata": {},
   "outputs": [
    {
     "name": "stdout",
     "output_type": "stream",
     "text": [
      "The Actual length of the article is :  5607\n"
     ]
    },
    {
     "data": {
      "text/plain": [
       "'Just how   is Hillary Kerr, the    founder of a   digital media company in Los Angeles? She can tell you what song was playing five years ago on the jukebox at the bar where she somewhat randomly met the man who became her husband. It was “These Days,” the version sung by Nico, the German   made famous by Andy Warhol and the Velvet Underground. Actually, the song had been playing just before she met Jonathan Leahy, now 38, on that December night in 2011 at the 4100 Bar in the Silver Lake district of Los Angeles. Ms. Kerr can’t remember exactly what was playing when they met because at that moment she was jumping up and down “like Tigger,” as she put it. In answering the usual     questions, Mr. Leahy told her he was a music supervisor for “Girls,” the HBO show created by and starring Lena Dunham. That was enough to get Ms. Kerr bouncing. “Your music has changed my life!” she told Mr. Leahy. Mr. Leahy, who is quiet but not shy (at least he doesn’t jump up and down upon meeting people) was mesmerized. “My main reaction,” he said, “was it’s a lot easier to talk to beautiful women in a bar when you’re working on a hit show. ” They exchanged email addresses, more an act of politeness than promise. Then their soundtrack went quiet for almost a year. Both Mr. Leahy and Ms. Kerr had active social lives, but they were focused on their careers. Mr. Leahy, who grew up in Laconia, N. H. graduated from the College of William and Mary in Williamsburg, Va. in 2000 and landed in Los Angeles later that year. Now he is a music supervisor with Aperture Music and is joined by Manish Raval and Tom Wolfe in being responsible for the music on “Girls. ” The team has also worked on films including “Trainwreck” and television series such as “New Girl. ” In addition, Mr. Leahy is the music supervisor for “Survivor’s Remorse” on Starz. Ms. Kerr grew up in the La Jolla section of San Diego, graduated from the University of Southern California in 2000 and eventually made her way to New York, where she took a job as an assistant at Elle magazine. In 2005 she moved back to the West Coast, to Los Angeles, and with a fellow Elle alum,  Katherine Power, created a company best known for its website, Who What Wear, which casts an eye on celebrity culture and fashion it now has 13 million monthly unique visitors. Ms. Kerr and Ms. Power also started the Who What Wear clothing and accessories line sold at Target. It was nine months after their initial meeting that Mr. Leahy emailed Ms. Kerr. He had a friend who wanted to get into the fashion industry. Ms. Kerr, Mr. Leahy and his friend met for a long, boozy brunch. They began to email and text a bit. “There was banter,” Ms. Kerr said, but neither knew the interest or intention of the other. A few months later, she texted to ask if he could help her score a ticket to see the band Lord Huron. Mr. Leahy happens to be a friend of Ben Schneider, the band’s lead singer, and had an extra ticket. “This was one of those moments where the universe conspires to make you seem cooler than you actually are,” Mr. Leahy said. He and Ms. Kerr met up at the show. That is when Mr. Leahy and Ms. Kerr moved into the ambiguous “mixtape era,” in which for months they emailed and texted each other with coy “are we just friends or what” texts revolving around music. For example, Ms. Kerr was visiting New York and texted Mr. Leahy a request for “walking around SoHo music. ” He sent her a link to “Love Me Again,” by John Newman. It has a club vibe but romantic lyrics. “I wanted to read into it,” Ms. Kerr said, but she figured (correctly, it turns out) that her new friend was a bit of a clueless guy who didn’t spend much time thinking about how a woman might react to such a song being shared with her. Another time he emailed her a link to a Fleetwood Mac version of “Need Your Love So Bad. ” After listening to it, Ms. Kerr said, “I called my friend Katie. ” “At that time,” she continued, “I just referred to him as ‘the supervisor.’ She knew I had a crush on him. She said, ‘How can it not mean something? ’” Mr. Leahy acknowledged that it might be difficult for a person to think he was not sending Ms. Kerr a message with this song. “I sort of thought, ‘Maybe it’s too much. ’” But he shared it with her anyway. (This is the same man who sent her the song “BedBedBedBedBed, Vacationer Remix,” by Deleted Scenes, “during the friend phase,” Ms. Kerr said.) Ms. Kerr played the game, too. She made Mr. Leahy a mix CD (handwritten liner notes and all) that she titled “Feynman Diagrams for All,” after Mr. Leahy told her in a text conversation that he thought the idea of Feynman diagrams  —   in which physicists map out the interactions of subatomic particles  —   was romantic. On the mix, Ms. Kerr included the Mazzy Star song “I’ve Been Let Down. ” It was “a bit of an Easter egg of my actual feelings,” she said. Around this time, Ms. Kerr texted Mr. Leahy a photo of the drink menu from a bar,  the Roger Room. She had focused on a drink named for the song “Christmas Card From a Hooker in Minneapolis,” which happens to be Mr. Leahy’s favorite Tom Waits tune. “This made me rethink things a bit,” he said, adding, “Hillary Kerr was clearly not to be trifled with. ” In early 2014, Mr. Leahy invited her to a Bleachers concert. The band’s lead singer is Jack Antonoff, who is Ms. Dunham’s boyfriend. Ms. Dunham was at the concert as well, and on meeting Ms. Kerr, she said, “I’ve heard so much about you. ” Ms. Kerr and Mr. Leahy shared their first kiss that night. He proposed to her on Polihale Beach in Kauai, Hawaii, on Jan. 1, 2016. On Dec. 10, 125 friends and relatives gathered in Palm Springs, Calif. at the Colony Palms Hotel, which was opened in 1936 by the reputed mobster Al Wertheimer and whose poolside guests have included Frank Sinatra, Ronald Reagan, Kirk Douglas and Zsa Zsa Gabor. Ms. Kerr walked down a grassy aisle in a   courtyard wearing a structured lace Reem Acra dress, strapless with a bustier and a full skirt. Four musicians played “Once, With Feeling,” an instrumental song Mr. Leahy wrote for Ms. Kerr. . Just minutes into the cocktail reception, a few of Ms. Kerr’s best friends descended upon her. Jen Atkin, the celebrity hairstylist and social media star, started fussing with the flower she had sewn into the bride’s hair. Joey Maalouf, the celebrity makeup artist who is a creator of the       service the Glam App, whipped out a tube of lip gloss and reapplied it to the bride’s pucker. He had done her makeup. “The look we went for is sickeningly stunning and perfect,” he said. Guests mingled over drinks by the pool, which was framed by banquette tables lit from above by strings of bulbs. The sky turned pink before the stars appeared, and guests snapped photos and shared them with the hundreds of thousands who follow these members of the   illuminati (#imwithkerr and #letsgetleahyed). “This looks like it’s art directed,” Eva Chen, the head of fashion partnerships for Instagram, said as she took it all in. She had worked as an assistant at Elle with Ms. Kerr. Friends of both the bride and the groom celebrated what they saw as a great match, based on passion not only for each other but also for music. Leigh Belz Ray, the features and news director at InStyle, was another former Elle colleague who made the trip. “Hillary loves music, and it’s not just a casual thing,” Ms. Ray said. “We used to say the ultimate fantasy was to become a music director, and now she’s married to one. ” After a romantic first dance to Solomon Burke’s “If You Need Me,” Mr. and Mrs. Leahy (she will use her maiden name professionally) settled into several hours of serious dancing to songs spun by a D. J. And before they left for their Hawaiian honeymoon, Mr. Leahy completed his first important act as husband. He pulled together many of the songs that could be considered the soundtrack to their romance and made his wife a mixtape. When Dec. 10, 2016 Where Colony Palms Hotel, Palm Springs, Calif. Flora The bride and groom were married under a white birch trellis, because white birch is the state tree of New Hampshire, where Mr. Leahy grew up and where his parents, Richard and Marie Leahy, reside. The structure was wrapped in white peonies, Sahara roses and camellia greens. Readings Mr. Leahy’s family is Roman Catholic Ms. Kerr’s parents, John and Carole Kerr, are more spiritual than religiously observant. Many of the guests had an artistic bent. The bride and groom planned accordingly. Marshall Goldsmith, an executive coach, author and lifelong family friend of Ms. Kerr, officiated. Friends and relatives stood to read poems from James Kavanaugh and Mary Oliver, as well as a passage from the Supreme Court’s 2015 ruling legalizing   marriage. “A little Catholic priest, a little lesbian Pulitzer Prize winner, a little equal rights for all,” Ms. Kerr explained after the ceremony.'"
      ]
     },
     "execution_count": 19,
     "metadata": {},
     "output_type": "execute_result"
    }
   ],
   "source": [
    "print (\"The Actual length of the article is : \", len(df['article'][0]))\n",
    "df['article'][8]"
   ]
  },
  {
   "cell_type": "code",
   "execution_count": 20,
   "metadata": {},
   "outputs": [
    {
     "name": "stdout",
     "output_type": "stream",
     "text": [
      "The length of the summarized article is :  1688\n"
     ]
    },
    {
     "data": {
      "text/plain": [
       "'that is when mr leahy and ms kerr moved into the ambiguous “mixtape era” in which for months they emailed and texted each other with coy “are we just friends or what” texts revolving around music.four musicians played “once with feeling” an instrumental song mr leahy wrote for ms kerr just minutes into the cocktail reception a few of ms kerr best friends descended upon her.this is the same man who sent her the song “bedbedbedbedbed vacationer remix” by deleted scenes “during the friend phase” ms kerr said.” after a romantic first dance to solomon burke “if you need me” mr and mrs leahy she will use her maiden name professionally settled into several hours of serious dancing to songs spun by a d j and before they left for their hawaiian honeymoon mr leahy completed his first important act as husband.she made mr leahy a mix cd handwritten liner notes and all that she titled “feynman diagrams for all” after mr leahy told her in a text conversation that he thought the idea of feynman diagrams — in which physicists map out the interactions of subatomic particles — was romantic.“i wanted to read into it” ms kerr said but she figured correctly it turns out that her new friend was a bit of a clueless guy who did not spend much time thinking about how a woman might react to such a song being shared with her.” “at that time” she continued “i just referred to him as ‘the supervisor’ she knew i had a crush on him.” in addition mr leahy is the music supervisor for “survivor remorse” on starz.“this made me rethink things a bit” he said adding “hillary kerr was clearly not to be trifled with.for example ms kerr was visiting new york and texted mr leahy a request for “walking around soho music.’” mr leahy acknowledged that it might be difficult for a person to think he was not sending ms kerr a message with this song.” the team has also worked on films including “trainwreck” and television series such as “new girl.” after listening to it ms kerr said “i called my friend katie.ms dunham was at the concert as well and on meeting ms kerr she said “i have heard so much about you.“a little catholic priest a little lesbian pulitzer prize winner a little equal rights for all” ms kerr explained after the ceremony.in answering the usual questions mr leahy told her he was a music supervisor for “girls” the hbo show created by and starring lena dunham.“there was banter” ms kerr said but neither knew the interest or intention of the other.ms kerr cannot remember exactly what was playing when they met because at that moment she was jumping up and down “like tigger” as she put it.” ms kerr and mr leahy shared their first kiss that night'"
      ]
     },
     "execution_count": 20,
     "metadata": {},
     "output_type": "execute_result"
    }
   ],
   "source": [
    "print (\"The length of the summarized article is : \", len(summaries[0]))\n",
    "summaries[8]"
   ]
  },
  {
   "cell_type": "code",
   "execution_count": 25,
   "metadata": {},
   "outputs": [
    {
     "name": "stdout",
     "output_type": "stream",
     "text": [
      "Textrank BLEU Score: 0.06167892342373361\n",
      "Article Summarize BLEU Score: 0.04924285571841851\n"
     ]
    },
    {
     "data": {
      "image/png": "[encoded data removed]",
      "text/plain": [
       "<Figure size 1080x1080 with 1 Axes>"
      ]
     },
     "metadata": {},
     "output_type": "display_data"
    }
   ],
   "source": [
    "from nltk.translate.bleu_score import sentence_bleu, SmoothingFunction\n",
    "\n",
    "# Function to calculate BLEU score\n",
    "def calculate_bleu_score(reference, candidate):\n",
    "    reference = [word_tokenize(reference)]\n",
    "    candidate = word_tokenize(candidate)\n",
    "    smooth = SmoothingFunction().method4\n",
    "    score = sentence_bleu(reference, candidate, smoothing_function=smooth)\n",
    "    return score\n",
    "\n",
    "# Function to generate summaries and calculate BLEU scores\n",
    "def generate_and_compare_summaries(article_text):\n",
    "    textrank_summary = textrank_summarize(article_text)\n",
    "    article_summary = article_summarize(article_text)[0]  # Assuming article_summarize returns a list of summaries\n",
    "\n",
    "    # Calculate BLEU scores\n",
    "    bleu_textrank = calculate_bleu_score(article_text, textrank_summary)\n",
    "    bleu_article = calculate_bleu_score(article_text, article_summary)\n",
    "\n",
    "    return textrank_summary, article_summary, bleu_textrank, bleu_article\n",
    "\n",
    "# Example: Generate and compare summaries for the first article\n",
    "article_text = df['article'][0]\n",
    "textrank_summary, article_summary, bleu_textrank, bleu_article = generate_and_compare_summaries(article_text)\n",
    "\n",
    "# Print BLEU scores\n",
    "print(f\"Textrank BLEU Score: {bleu_textrank}\")\n",
    "print(f\"Article Summarize BLEU Score: {bleu_article}\")\n",
    "\n",
    "# Create a plot\n",
    "labels = ['Textrank', 'Article Summarize']\n",
    "bleu_scores = [bleu_textrank, bleu_article]\n",
    "\n",
    "plt.bar(labels, bleu_scores, color=['blue', 'green'])\n",
    "plt.ylabel('BLEU Score')\n",
    "plt.title('Comparison of Textrank and Article Summarize')\n",
    "plt.show()\n"
   ]
  },
  {
   "cell_type": "code",
   "execution_count": null,
   "metadata": {},
   "outputs": [],
   "source": []
  }
 ],
 "metadata": {
  "kernelspec": {
   "display_name": "Python 3 (ipykernel)",
   "language": "python",
   "name": "python3"
  },
  "language_info": {
   "codemirror_mode": {
    "name": "ipython",
    "version": 3
   },
   "file_extension": ".py",
   "mimetype": "text/x-python",
   "name": "python",
   "nbconvert_exporter": "python",
   "pygments_lexer": "ipython3",
   "version": "3.9.12"
  },
  "papermill": {
   "default_parameters": {},
   "duration": 32.737104,
   "end_time": "2021-06-24T08:40:58.406506",
   "environment_variables": {},
   "exception": null,
   "input_path": "__notebook__.ipynb",
   "output_path": "__notebook__.ipynb",
   "parameters": {},
   "start_time": "2021-06-24T08:40:25.669402",
   "version": "2.2.2"
  }
 },
 "nbformat": 4,
 "nbformat_minor": 4
}
